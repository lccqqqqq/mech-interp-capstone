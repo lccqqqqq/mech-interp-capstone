{
 "cells": [
  {
   "cell_type": "code",
   "execution_count": 4,
   "metadata": {},
   "outputs": [],
   "source": [
    "import numpy as np\n",
    "import torch as t\n",
    "import torch.nn as nn\n",
    "from torch.utils.data import DataLoader, TensorDataset\n",
    "import matplotlib.pyplot as plt\n",
    "from sklearn.linear_model import LinearRegression\n",
    "from sklearn.model_selection import train_test_split\n",
    "from mpl_toolkits.mplot3d import Axes3D\n",
    "from scipy.stats import pearsonr\n",
    "from sklearn.decomposition import PCA\n",
    "\n",
    "class Mess3Process:\n",
    "    def __init__(self):\n",
    "        self.T_A = t.tensor([[0.765, 0.1175, 0.1175],\n",
    "                             [0.915, 0.0675, 0.0175],\n",
    "                             [0.91, 0.0025, 0.0875]])\n",
    "        self.T_B = t.tensor([[0.45, 0.45, 0.1],\n",
    "                             [0.1, 0.8, 0.1],\n",
    "                             [0.1, 0.1, 0.8]])\n",
    "        self.T_C = t.tensor([[0.45, 0.1, 0.45],\n",
    "                             [0.1, 0.45, 0.45],\n",
    "                             [0.1, 0.1, 0.8]])\n",
    "        self.tokens = ['A', 'B', 'C']\n",
    "        self.num_states = 3\n",
    "        self.T_A = self.T_A / self.T_A.sum(dim=1, keepdim=True)\n",
    "        self.T_B = self.T_B / self.T_B.sum(dim=1, keepdim=True)\n",
    "        self.T_C = self.T_C / self.T_C.sum(dim=1, keepdim=True)\n",
    "\n",
    "    def generate_sequence(self, length):\n",
    "        states = t.zeros(length, dtype=t.long)\n",
    "        observations = []\n",
    "        current_state = t.randint(0, self.num_states, (1,)).item()\n",
    "        for t_idx in range(length):\n",
    "            states[t_idx] = current_state\n",
    "            T_choice = t.randint(0, 3, (1,)).item()\n",
    "            T = self.T_A if T_choice == 0 else self.T_B if T_choice == 1 else self.T_C\n",
    "            probs = T[current_state]\n",
    "            token_idx = t.multinomial(probs, 1).item()\n",
    "            token = self.tokens[token_idx]\n",
    "            observations.append(token)\n",
    "            current_state = t.multinomial(probs, 1).item()\n",
    "        return states, observations"
   ]
  },
  {
   "cell_type": "code",
   "execution_count": 7,
   "metadata": {},
   "outputs": [],
   "source": [
    "import wandb\n",
    "proc = Mess3Process()"
   ]
  },
  {
   "cell_type": "code",
   "execution_count": null,
   "metadata": {},
   "outputs": [
    {
     "name": "stdout",
     "output_type": "stream",
     "text": [
      "tensor([0, 0, 0, 2, 0, 0, 1, 2, 0, 0, 0, 0, 1, 0, 1])\n",
      "['A', 'A', 'A', 'A', 'C', 'A', 'B', 'C', 'A', 'A', 'A', 'B', 'A', 'B', 'B']\n"
     ]
    }
   ],
   "source": [
    "# build a trasnformer\n",
    "from transformer_lens import HookedTransformer, HookedTransformerConfig\n",
    "from dataclasses import dataclass\n",
    "\n",
    "# initialize model config\n",
    "\n",
    "cfg = HookedTransformerConfig(\n",
    "    n_layers=4,\n",
    "    d_model=64,\n",
    "    n_ctx=10,\n",
    "    d_vocab=3,\n",
    "    n_heads=1,\n",
    "    d_head=8,\n",
    "    d_mlp=256,\n",
    "    act_fn=\"relu\",\n",
    ")\n",
    "\n",
    "# dataset generation and model training config\n",
    "@dataclass\n",
    "class TrainConfig:\n",
    "    learning_rate: float = 1e-2\n",
    "    batch_size: int = 64\n",
    "    n_epoch = 1_000_000\n",
    "    weight_decay: float | None = None\n",
    "    checkpoint_every: int = 100\n"
   ]
  },
  {
   "cell_type": "code",
   "execution_count": null,
   "metadata": {},
   "outputs": [],
   "source": [
    "from tqdm import tqdm\n",
    "def train_model(\n",
    "    cfg: HookedTransformerConfig,\n",
    "    tcfg: TrainConfig,\n",
    "    device: str = \"cuda\" if t.cuda.is_available() else \"cpu\",\n",
    ") -> HookedTransformer:\n",
    "    # initialize model\n",
    "    model = HookedTransformer(cfg)\n",
    "    model.to(device)\n",
    "    \n",
    "    # Optimizer\n",
    "    optimizer = t.optim.Adam(\n",
    "        model.parameters(),\n",
    "        lr=tcfg.learning_rate,\n",
    "    )\n",
    "    run = wandb.init(\n",
    "        project=\"toy-transformer-markov-chain\",\n",
    "        name=f\"transformer-epochs-{tcfg.n_epoch}\",\n",
    "    )\n",
    "    \n",
    "    # training loop begins\n",
    "    for epoch in tqdm(range(tcfg.n_epoch)):\n",
    "        pass\n",
    "    \n",
    "    \n",
    "    \n",
    "    \n"
   ]
  }
 ],
 "metadata": {
  "kernelspec": {
   "display_name": "Python 3",
   "language": "python",
   "name": "python3"
  },
  "language_info": {
   "codemirror_mode": {
    "name": "ipython",
    "version": 3
   },
   "file_extension": ".py",
   "mimetype": "text/x-python",
   "name": "python",
   "nbconvert_exporter": "python",
   "pygments_lexer": "ipython3",
   "version": "3.10.5"
  }
 },
 "nbformat": 4,
 "nbformat_minor": 2
}
