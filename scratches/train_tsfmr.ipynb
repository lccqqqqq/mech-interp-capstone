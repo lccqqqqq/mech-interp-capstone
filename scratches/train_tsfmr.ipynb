{
 "cells": [
  {
   "cell_type": "markdown",
   "metadata": {},
   "source": [
    "# Training a transformer\n",
    "\n",
    "Some proposals\n",
    "\n",
    "- Train the transformer with multiple heads (various models with hyperparameter $L, H$) in solving for SHO.\n",
    "- Use linear regression "
   ]
  },
  {
   "cell_type": "markdown",
   "metadata": {},
   "source": [
    "## Setup and imports"
   ]
  },
  {
   "cell_type": "code",
   "execution_count": 1,
   "metadata": {},
   "outputs": [],
   "source": [
    "import functools\n",
    "import sys\n",
    "from pathlib import Path\n",
    "from typing import Callable\n",
    "\n",
    "import circuitsvis as cv\n",
    "import einops\n",
    "import numpy as np\n",
    "import torch as t\n",
    "import torch.nn as nn\n",
    "import torch.nn.functional as F\n",
    "import eindex\n",
    "from IPython.display import display\n",
    "from jaxtyping import Float, Int\n",
    "from torch import Tensor\n",
    "from tqdm import tqdm\n",
    "from transformer_lens import (\n",
    "    ActivationCache,\n",
    "    FactoredMatrix,\n",
    "    HookedTransformer,\n",
    "    HookedTransformerConfig,\n",
    "    utils,\n",
    ")\n",
    "from transformer_lens.hook_points import HookPoint\n",
    "\n",
    "device = t.device(\"mps\" if t.backends.mps.is_available() else \"cuda\" if t.cuda.is_available() else \"cpu\")"
   ]
  },
  {
   "cell_type": "markdown",
   "metadata": {},
   "source": [
    "### Generating data\n",
    "\n",
    "The time series data of a particle's movement in a 2D phase space is computed directly with random initializations of values $\\omega_0, x_0, v_0, \\Delta t$."
   ]
  },
  {
   "cell_type": "code",
   "execution_count": 2,
   "metadata": {},
   "outputs": [
    {
     "name": "stdout",
     "output_type": "stream",
     "text": [
      "Train data shape: torch.Size([5000, 65, 2])\n",
      "OOD test data shape: torch.Size([5000, 65, 2])\n"
     ]
    }
   ],
   "source": [
    "## Data generation\n",
    "import math\n",
    "\n",
    "def generate_harmonic_data_torch(\n",
    "    n_sequences=5000,\n",
    "    n_steps=65,\n",
    "    w0_range=(math.pi/4, 5*math.pi/4),\n",
    "    out_of_distribution=False,\n",
    "    device='cpu',\n",
    "    seed=None\n",
    "):\n",
    "    \"\"\"\n",
    "    Generate undamped harmonic oscillator sequences using PyTorch.\n",
    "    \n",
    "    Each sequence is length n_steps, and each time step has shape (2,):\n",
    "        [ x(t), v(t) ].\n",
    "\n",
    "    Args:\n",
    "        n_sequences (int): Number of sequences to generate.\n",
    "        n_steps (int): Number of time steps per sequence.\n",
    "        w0_range (tuple or list): For in-distribution data, we uniformly sample\n",
    "            ω₀ in [w0_range[0], w0_range[1]]. For OOD data, we sample from\n",
    "            [0, π/4] U [5π/4, 3π/2].\n",
    "        out_of_distribution (bool): If True, sample ω₀ from the OOD range.\n",
    "        device (str): 'cpu' or 'cuda', for where to place the generated tensors.\n",
    "        seed (int or None): Set a random seed for reproducibility, or None.\n",
    "\n",
    "    Returns:\n",
    "        data (t.FloatTensor): Shape (n_sequences, n_steps, 2),\n",
    "            storing [x(t), v(t)] at each time step.\n",
    "    \"\"\"\n",
    "    if seed is not None:\n",
    "        t.manual_seed(seed)\n",
    "\n",
    "    # Allocate the output data\n",
    "    data = t.zeros((n_sequences, n_steps, 2), dtype=t.float32, device=device)\n",
    "\n",
    "    # Sample initial positions/velocities in [-1, 1]\n",
    "    x0_all = t.empty(n_sequences, device=device).uniform_(-1, 1)\n",
    "    v0_all = t.empty(n_sequences, device=device).uniform_(-1, 1)\n",
    "\n",
    "    # Sample ω₀\n",
    "    if out_of_distribution:\n",
    "        # We want half in [0, π/4], half in [5π/4, 3π/2]\n",
    "        half = n_sequences // 2\n",
    "        w0_1 = t.empty(half, device=device).uniform_(0.0, math.pi/4)\n",
    "        w0_2 = t.empty(n_sequences - half, device=device).uniform_(5*math.pi/4, 3*math.pi/2)\n",
    "        w0_all = t.cat([w0_1, w0_2], dim=0)\n",
    "        # Shuffle so there's no ordering by range\n",
    "        idx_perm = t.randperm(n_sequences, device=device)\n",
    "        w0_all = w0_all[idx_perm]\n",
    "    else:\n",
    "        # In-distribution: ω₀ ∈ [π/4, 5π/4]\n",
    "        w0_min, w0_max = w0_range\n",
    "        w0_all = t.empty(n_sequences, device=device).uniform_(w0_min, w0_max)\n",
    "\n",
    "    # For each sequence, sample Δt ∈ [0, 2π/ω₀]. \n",
    "    # This range depends on w0 individually, so we do a small loop:\n",
    "    dt_all = []\n",
    "    for i in range(n_sequences):\n",
    "        w0 = w0_all[i]\n",
    "        if w0 == 0:\n",
    "            dt_all.append(0.0)\n",
    "        else:\n",
    "            dt_all.append(t.empty(1, device=device).uniform_(0.0, (2*math.pi)/(w0)).item())\n",
    "\n",
    "    dt_all = t.tensor(dt_all, dtype=t.float32, device=device)\n",
    "\n",
    "    # Generate time series\n",
    "    for i in range(n_sequences):\n",
    "        w0  = w0_all[i]\n",
    "        x0  = x0_all[i]\n",
    "        v0  = v0_all[i]\n",
    "        dt  = dt_all[i]\n",
    "\n",
    "        # Time steps: t = 0, dt, 2dt, ..., (n_steps-1)*dt\n",
    "        t_vals = dt * t.arange(n_steps, device=device, dtype=t.float32)\n",
    "\n",
    "        if w0 != 0.0:\n",
    "            # x(t)\n",
    "            x_vals = x0 * t.cos(w0 * t_vals) + (v0 / w0) * t.sin(w0 * t_vals)\n",
    "            # v(t)\n",
    "            v_vals = -x0 * w0 * t.sin(w0 * t_vals) + v0 * t.cos(w0 * t_vals)\n",
    "        else:\n",
    "            # If w0 = 0, the equation is degenerate. Let's just hold x constant\n",
    "            # or do something minimal. Here we do x(t)=x0, v(t)=v0 for all t.\n",
    "            x_vals = x0 * t.ones_like(t_vals)\n",
    "            v_vals = v0 * t.ones_like(t_vals)\n",
    "\n",
    "        data[i, :, 0] = x_vals\n",
    "        data[i, :, 1] = v_vals\n",
    "\n",
    "    return data\n",
    "\n",
    "\n",
    "train_data = generate_harmonic_data_torch(\n",
    "    n_sequences=5000,\n",
    "    n_steps=65,\n",
    "    w0_range=(math.pi/4, 5*math.pi/4),\n",
    "    out_of_distribution=False,\n",
    "    device=device,\n",
    "    seed=42\n",
    ")\n",
    "print(\"Train data shape:\", train_data.shape)  # (5000, 65, 2)\n",
    "\n",
    "test_data_ood = generate_harmonic_data_torch(\n",
    "    n_sequences=5000,\n",
    "    n_steps=65,\n",
    "    out_of_distribution=True,\n",
    "    device=device,\n",
    "    seed=999\n",
    ")\n",
    "print(\"OOD test data shape:\", test_data_ood.shape)  #"
   ]
  },
  {
   "cell_type": "markdown",
   "metadata": {},
   "source": [
    "### Testing for generated data\n",
    "\n",
    "We plot the phase space for various cases. Note that since we have set $\\Delta t \\sim U[0, 2\\pi / \\omega_0]$, it is possible for the particle to move anywhere within one ''time step'' - just a note that the time step in the current context should not be perceived as something small in magnitude."
   ]
  },
  {
   "cell_type": "code",
   "execution_count": 3,
   "metadata": {},
   "outputs": [],
   "source": [
    "import random\n",
    "import matplotlib.pyplot as plt\n",
    "\n",
    "\n",
    "def plot_phase_diagrams(dataset, n_examples=5):\n",
    "    \"\"\"\n",
    "    Plots x vs. v (the \"phase diagram\") for a few randomly selected sequences.\n",
    "\n",
    "    Args:\n",
    "        dataset (torch.Tensor): Shape (n_sequences, n_steps, 2), \n",
    "                                each entry is [x(t), v(t)] at each time step.\n",
    "        n_examples (int): Number of random sequences to plot.\n",
    "    \"\"\"\n",
    "\n",
    "    # If your data is on the GPU, move it to CPU for plotting\n",
    "    data_cpu = dataset.cpu()\n",
    "\n",
    "    # Randomly choose some sequence indices (without replacement)\n",
    "    indices = random.sample(range(data_cpu.shape[0]), n_examples)\n",
    "\n",
    "    # Create subplots: one phase diagram per chosen sequence\n",
    "    fig, axes = plt.subplots(1, n_examples, figsize=(5 * n_examples, 4), \n",
    "                             sharey=True)\n",
    "\n",
    "    # If there's only one example, make `axes` iterable by wrapping in a list\n",
    "    if n_examples == 1:\n",
    "        axes = [axes]\n",
    "\n",
    "    for i, idx in enumerate(indices):\n",
    "        # Extract x(t) and v(t) for this sequence\n",
    "        x_t = data_cpu[idx, :, 0].numpy()\n",
    "        v_t = data_cpu[idx, :, 1].numpy()\n",
    "\n",
    "        # Plot x vs. v\n",
    "        ax = axes[i]\n",
    "        ax.plot(x_t, v_t, marker=\"o\", markersize=3, linewidth=1)\n",
    "        ax.set_xlabel(\"x(t)\")\n",
    "        ax.set_ylabel(\"v(t)\")\n",
    "        ax.set_title(f\"Sequence {idx}\")\n",
    "\n",
    "    plt.tight_layout()\n",
    "    plt.show()"
   ]
  },
  {
   "cell_type": "code",
   "execution_count": 4,
   "metadata": {},
   "outputs": [
    {
     "ename": "NameError",
     "evalue": "name 'dataset' is not defined",
     "output_type": "error",
     "traceback": [
      "\u001b[1;31m---------------------------------------------------------------------------\u001b[0m",
      "\u001b[1;31mNameError\u001b[0m                                 Traceback (most recent call last)",
      "Cell \u001b[1;32mIn[4], line 10\u001b[0m\n\u001b[0;32m      1\u001b[0m train_data \u001b[38;5;241m=\u001b[39m generate_harmonic_data_torch(\n\u001b[0;32m      2\u001b[0m     n_sequences\u001b[38;5;241m=\u001b[39m\u001b[38;5;241m5000\u001b[39m,\n\u001b[0;32m      3\u001b[0m     n_steps\u001b[38;5;241m=\u001b[39m\u001b[38;5;241m65\u001b[39m,\n\u001b[1;32m   (...)\u001b[0m\n\u001b[0;32m      6\u001b[0m     seed\u001b[38;5;241m=\u001b[39m\u001b[38;5;241m42\u001b[39m\n\u001b[0;32m      7\u001b[0m )\n\u001b[0;32m      9\u001b[0m \u001b[38;5;66;03m# 2) Plot phase diagrams for 3 random sequences\u001b[39;00m\n\u001b[1;32m---> 10\u001b[0m plot_phase_diagrams(\u001b[43mdataset\u001b[49m[\u001b[38;5;124m'\u001b[39m\u001b[38;5;124msequences_test\u001b[39m\u001b[38;5;124m'\u001b[39m], n_examples\u001b[38;5;241m=\u001b[39m\u001b[38;5;241m3\u001b[39m)\n",
      "\u001b[1;31mNameError\u001b[0m: name 'dataset' is not defined"
     ]
    }
   ],
   "source": [
    "train_data = generate_harmonic_data_torch(\n",
    "    n_sequences=5000,\n",
    "    n_steps=65,\n",
    "    w0_range=(math.pi/4, 5*math.pi/4),\n",
    "    out_of_distribution=False,\n",
    "    seed=42\n",
    ")\n",
    "\n",
    "# 2) Plot phase diagrams for 3 random sequences\n",
    "plot_phase_diagrams(dataset['sequences_test'], n_examples=3)"
   ]
  },
  {
   "cell_type": "markdown",
   "metadata": {},
   "source": [
    "## Building the transformer"
   ]
  },
  {
   "cell_type": "markdown",
   "metadata": {},
   "source": [
    "Let's summarize the parameters used in the `train_model.py` file.\n",
    "\n"
   ]
  },
  {
   "cell_type": "code",
   "execution_count": 150,
   "metadata": {},
   "outputs": [
    {
     "name": "stdout",
     "output_type": "stream",
     "text": [
      "Moving model to device:  cuda\n"
     ]
    }
   ],
   "source": [
    "\n",
    "\n",
    "# print(hooked_transformer)"
   ]
  },
  {
   "cell_type": "markdown",
   "metadata": {},
   "source": [
    "## In-context training of the transformer"
   ]
  },
  {
   "cell_type": "markdown",
   "metadata": {},
   "source": [
    "It seems by default `TransformerLens` does not deal with continuous-space inputs (as we are trying to do here modelling the phase space). Here are some workarounds on top of the default model where we\n",
    "\n",
    "1. Changed the embedding to `PhaseSpaceEmbed`, that takes phase space dimension and embed it into `d_model`, which for simplicity we have taken to be the same as the phase space dimension.\n",
    "   \n",
    "2. Ablated the position embedding entirely."
   ]
  },
  {
   "cell_type": "code",
   "execution_count": 3,
   "metadata": {},
   "outputs": [],
   "source": [
    "class PhaseSpaceEmbed(nn.Module):\n",
    "    def __init__(self, d_model: int, d_phase_space: int):\n",
    "        super().__init__()\n",
    "        self.d_model = d_model\n",
    "        self.d_phase_space = d_phase_space\n",
    "        self.W_E = nn.Parameter(t.randn(d_model, d_phase_space))\n",
    "        self.b_E = nn.Parameter(t.randn(d_model))\n",
    "\n",
    "    def forward(self, x: Tensor) -> Tensor:\n",
    "        return F.linear(x, self.W_E, self.b_E)\n",
    "    \n",
    "class IdentityEmbed(nn.Module):\n",
    "    def __init__(self, d_model: int, d_phase_space: int):\n",
    "        super().__init__()\n",
    "        self.d_model = d_model\n",
    "        self.d_phase_space = d_phase_space\n",
    "\n",
    "    def forward(self, x: Tensor) -> Tensor:\n",
    "        return x\n",
    "\n",
    "class AblatedPosEmbed(nn.Module):\n",
    "    def __init__(self, d_model, *kwargs):\n",
    "        super().__init__()\n",
    "        self.d_model = d_model\n",
    "        \n",
    "    def forward(self, x: Tensor, *kwargs) -> Tensor:\n",
    "        return t.zeros(x.shape[0], x.shape[1], self.d_model, device=x.device)\n",
    "\n",
    "class TimeEmbed(nn.Module):\n",
    "    def __init__(self, seq_len: int, d_model: int, *kwargs):\n",
    "        super().__init__()\n",
    "        self.seq_len = seq_len\n",
    "        self.d_model = d_model\n",
    "        self.W_pos = nn.Parameter(t.zeros(seq_len, d_model))\n",
    "        # initialize to zero embedding\n",
    "    \n",
    "    def forward(self, x: Tensor, *kwargs) -> Tensor:\n",
    "        seq_len = x.shape[1]\n",
    "        positions = t.arange(0, seq_len, dtype=t.long, device=x.device)\n",
    "        embedded_pos = self.W_pos[positions]\n",
    "        \n",
    "        return embedded_pos"
   ]
  },
  {
   "cell_type": "code",
   "execution_count": null,
   "metadata": {},
   "outputs": [
    {
     "ename": "",
     "evalue": "",
     "output_type": "error",
     "traceback": [
      "\u001b[1;31mRunning cells with 'base (Python 3.10.12)' requires the ipykernel package.\n",
      "\u001b[1;31mRun the following command to install 'ipykernel' into the Python environment. \n",
      "\u001b[1;31mCommand: 'conda install -n base ipykernel --update-deps --force-reinstall'"
     ]
    }
   ],
   "source": [
    "import sklearn\n"
   ]
  },
  {
   "cell_type": "code",
   "execution_count": 4,
   "metadata": {},
   "outputs": [
    {
     "name": "stdout",
     "output_type": "stream",
     "text": [
      "Moving model to device:  cuda\n"
     ]
    },
    {
     "data": {
      "text/plain": [
       "tensor([[[ 3.6973,  1.2191],\n",
       "         [ 1.6697,  1.8671],\n",
       "         [-0.4876, -1.1099],\n",
       "         ...,\n",
       "         [ 1.6946, -0.1904],\n",
       "         [ 4.1521,  1.6969],\n",
       "         [ 1.8856,  1.6614]],\n",
       "\n",
       "        [[-0.3068, -2.3982],\n",
       "         [ 5.4749, -1.3114],\n",
       "         [ 3.6539, -1.9828],\n",
       "         ...,\n",
       "         [ 5.0064,  0.8195],\n",
       "         [ 4.8161,  0.4418],\n",
       "         [ 1.2460, -3.5357]],\n",
       "\n",
       "        [[ 0.5349,  1.1090],\n",
       "         [ 1.5769,  1.8203],\n",
       "         [ 0.2581,  0.2211],\n",
       "         ...,\n",
       "         [ 0.8856,  0.9320],\n",
       "         [ 0.2507,  0.4192],\n",
       "         [ 1.7690,  1.4441]],\n",
       "\n",
       "        ...,\n",
       "\n",
       "        [[-0.1827, -1.8174],\n",
       "         [-0.0536, -1.6726],\n",
       "         [ 0.0781, -1.5144],\n",
       "         ...,\n",
       "         [ 3.5349, -0.1687],\n",
       "         [ 3.4526, -0.2020],\n",
       "         [ 3.3861, -0.2704]],\n",
       "\n",
       "        [[ 1.8480,  1.9210],\n",
       "         [ 3.4324,  1.3487],\n",
       "         [ 3.7821,  0.9040],\n",
       "         ...,\n",
       "         [ 5.4592,  0.8865],\n",
       "         [ 7.3046,  0.8761],\n",
       "         [ 7.6868,  0.8269]],\n",
       "\n",
       "        [[-0.1224, -1.6107],\n",
       "         [-1.0881, -4.5313],\n",
       "         [ 2.0486, -2.8197],\n",
       "         ...,\n",
       "         [ 3.7691, -6.8261],\n",
       "         [ 2.6723, -8.8353],\n",
       "         [ 7.9572,  0.3505]]], device='cuda:0', grad_fn=<ViewBackward0>)"
      ]
     },
     "execution_count": 4,
     "metadata": {},
     "output_type": "execute_result"
    }
   ],
   "source": [
    "## Setting up the configuration\n",
    "from transformer_lens import HookedTransformer, HookedTransformerConfig\n",
    "\n",
    "def model_train_init():\n",
    "    cfg = HookedTransformerConfig(\n",
    "        n_layers=2,\n",
    "        d_model=16,\n",
    "        n_ctx=66,\n",
    "        d_head=10,\n",
    "        n_heads=4,\n",
    "        d_mlp=16*4,\n",
    "        act_fn=\"gelu\",\n",
    "        d_vocab=2,\n",
    "        normalization_type=None,\n",
    "    )\n",
    "\n",
    "    model = HookedTransformer(cfg)\n",
    "\n",
    "    train_cfg = {\n",
    "        \"lr\": 1e-3,\n",
    "        \"batch_size\": 64,\n",
    "        \"n_epochs\": 200,\n",
    "        \"checkpoint_every\": 10,\n",
    "        \"betas\": (0.9, 0.98),\n",
    "    }\n",
    "    \n",
    "    model.embed = PhaseSpaceEmbed(cfg.d_model, cfg.d_vocab)\n",
    "    model.pos_embed = TimeEmbed(cfg.n_ctx, cfg.d_model)\n",
    "    \n",
    "    return cfg, model, train_cfg\n",
    "\n",
    "# modify the embedding\n",
    "\n",
    "\n",
    "model.to(device)\n",
    "train_data.to(device)\n",
    "model(train_data)\n",
    "\n"
   ]
  },
  {
   "cell_type": "code",
   "execution_count": 7,
   "metadata": {},
   "outputs": [
    {
     "name": "stdout",
     "output_type": "stream",
     "text": [
      "Moving model to device:  cuda\n"
     ]
    },
    {
     "data": {
      "text/plain": [
       "==========================================================================================\n",
       "Layer (type:depth-idx)                   Output Shape              Param #\n",
       "==========================================================================================\n",
       "HookedTransformer                        [5000, 65, 2]             --\n",
       "├─PhaseSpaceEmbed: 1-1                   [5000, 65, 16]            48\n",
       "├─HookPoint: 1-2                         [5000, 65, 16]            --\n",
       "├─TimeEmbed: 1-3                         [65, 16]                  1,040\n",
       "├─HookPoint: 1-4                         [65, 16]                  --\n",
       "├─ModuleList: 1-5                        --                        --\n",
       "│    └─TransformerBlock: 2-1             [5000, 65, 16]            --\n",
       "│    │    └─HookPoint: 3-1               [5000, 65, 16]            --\n",
       "│    │    └─Identity: 3-2                [5000, 65, 16]            --\n",
       "│    │    └─Identity: 3-3                [5000, 65, 16]            --\n",
       "│    │    └─Identity: 3-4                [5000, 65, 16]            --\n",
       "│    │    └─Attention: 3-5               [5000, 65, 16]            2,696\n",
       "│    │    └─HookPoint: 3-6               [5000, 65, 16]            --\n",
       "│    │    └─HookPoint: 3-7               [5000, 65, 16]            --\n",
       "│    │    └─Identity: 3-8                [5000, 65, 16]            --\n",
       "│    │    └─MLP: 3-9                     [5000, 65, 16]            2,128\n",
       "│    │    └─HookPoint: 3-10              [5000, 65, 16]            --\n",
       "│    │    └─HookPoint: 3-11              [5000, 65, 16]            --\n",
       "│    └─TransformerBlock: 2-2             [5000, 65, 16]            --\n",
       "│    │    └─HookPoint: 3-12              [5000, 65, 16]            --\n",
       "│    │    └─Identity: 3-13               [5000, 65, 16]            --\n",
       "│    │    └─Identity: 3-14               [5000, 65, 16]            --\n",
       "│    │    └─Identity: 3-15               [5000, 65, 16]            --\n",
       "│    │    └─Attention: 3-16              [5000, 65, 16]            2,696\n",
       "│    │    └─HookPoint: 3-17              [5000, 65, 16]            --\n",
       "│    │    └─HookPoint: 3-18              [5000, 65, 16]            --\n",
       "│    │    └─Identity: 3-19               [5000, 65, 16]            --\n",
       "│    │    └─MLP: 3-20                    [5000, 65, 16]            2,128\n",
       "│    │    └─HookPoint: 3-21              [5000, 65, 16]            --\n",
       "│    │    └─HookPoint: 3-22              [5000, 65, 16]            --\n",
       "├─Unembed: 1-6                           [5000, 65, 2]             34\n",
       "==========================================================================================\n",
       "Total params: 10,770\n",
       "Trainable params: 10,770\n",
       "Non-trainable params: 0\n",
       "Total mult-adds (M): 0\n",
       "==========================================================================================\n",
       "Input size (MB): 2.60\n",
       "Forward/backward pass size (MB): 46.81\n",
       "Params size (MB): 0.00\n",
       "Estimated Total Size (MB): 49.41\n",
       "=========================================================================================="
      ]
     },
     "execution_count": 7,
     "metadata": {},
     "output_type": "execute_result"
    }
   ],
   "source": [
    "from torchinfo import summary\n",
    "\n",
    "summary(model.train(), input_size=(5000, 65, 2), device=device)"
   ]
  },
  {
   "cell_type": "code",
   "execution_count": 6,
   "metadata": {},
   "outputs": [],
   "source": [
    "dataset = t.load(\"C:\\\\Users\\\\15896\\\\myenv\\\\Hydra\\\\mech_interp_capstone\\\\scratches\\\\spring_data\\\\undamped.pth\")"
   ]
  },
  {
   "cell_type": "code",
   "execution_count": 5,
   "metadata": {},
   "outputs": [],
   "source": [
    "\n",
    "from torch.utils.data import TensorDataset, DataLoader\n",
    "## training data\n",
    "## pre-defined as following:\n",
    "\n",
    "# train_data.shape = (n_sample, n_timesteps, d_phase_space) = (5000, 65, 2), random_seed=42\n",
    "# test_data_ood.shape = (n_sample, n_timesteps, d_phase_space) = (5000, 65, 2), random_seed=999\n",
    "\n",
    "\n",
    "train_data.to(device)\n",
    "test_data_ood.to(device)\n",
    "\n",
    "datadict = t.load(\"C:\\\\Users\\\\15896\\\\myenv\\\\Hydra\\\\mech_interp_capstone\\\\scratches\\\\spring_data\\\\undamped.pth\")\n",
    "train_data = datadict[\"sequences_train\"].to(device)\n",
    "trainomegas = datadict[\"train_omegas\"]\n",
    "test_data_ood = datadict[\"sequences_test\"].to(device)\n",
    "testomegas = datadict[\"test_omegas\"]\n",
    "\n",
    "# train_data = generate_harmonic_data_torch(\n",
    "#     n_sequences=1000,\n",
    "#     n_steps=65,\n",
    "#     w0_range=(math.pi/4, 5*math.pi/4),\n",
    "#     out_of_distribution=False,\n",
    "#     seed=42\n",
    "# ).to(device)\n",
    "# \n",
    "# test_data_ood = generate_harmonic_data_torch(\n",
    "#     n_sequences=1000,\n",
    "#     n_steps=65,\n",
    "#     out_of_distribution=True,\n",
    "#     seed=999\n",
    "# ).to(device)\n",
    "# \n",
    "\n",
    "train_dataset = TensorDataset(train_data)  # simple dataset with just features\n",
    "train_loader = DataLoader(\n",
    "    train_dataset, \n",
    "    batch_size=train_cfg[\"batch_size\"],  # e.g., 64\n",
    "    shuffle=True\n",
    ")\n",
    "\n",
    "test_dataset = TensorDataset(test_data_ood)  # simple dataset with just features\n",
    "test_loader = DataLoader(\n",
    "    test_dataset, \n",
    "    batch_size=train_cfg[\"batch_size\"],  # e.g., 64\n",
    "    shuffle=False\n",
    ")\n"
   ]
  },
  {
   "cell_type": "code",
   "execution_count": 14,
   "metadata": {},
   "outputs": [],
   "source": [
    "from generate_data import generate_springdata\n",
    "\n",
    "train_data, train_omegas, test_data_ood, test_omegas = generate_springdata(\n",
    "    num_samples=1000,\n",
    "    sequence_length=64,\n",
    "    plot=False,\n",
    ")\n",
    "\n",
    "train_data = train_data.to(device)\n",
    "test_data_ood = test_data_ood.to(device)\n"
   ]
  },
  {
   "cell_type": "markdown",
   "metadata": {},
   "source": [
    "#### The model"
   ]
  },
  {
   "cell_type": "code",
   "execution_count": 59,
   "metadata": {},
   "outputs": [
    {
     "name": "stdout",
     "output_type": "stream",
     "text": [
      "Moving model to device:  cuda\n"
     ]
    }
   ],
   "source": [
    "## Initialize the model\n",
    "def model_train_init():\n",
    "    cfg = HookedTransformerConfig(\n",
    "        n_layers=3,\n",
    "        d_model=8,\n",
    "        n_ctx=66,\n",
    "        d_head=4,\n",
    "        n_heads=2,\n",
    "        d_mlp=8*4,\n",
    "        act_fn=\"gelu\",\n",
    "        d_vocab=2,\n",
    "        normalization_type=None,\n",
    "    )\n",
    "\n",
    "    model = HookedTransformer(cfg)\n",
    "\n",
    "    train_cfg = {\n",
    "        \"lr\": 1e-3,\n",
    "        \"batch_size\": 64,\n",
    "        \"n_epochs\": 200,\n",
    "        \"checkpoint_every\": 10,\n",
    "        \"betas\": (0.9, 0.98),\n",
    "    }\n",
    "    \n",
    "    model.embed = PhaseSpaceEmbed(cfg.d_model, cfg.d_vocab)\n",
    "    model.pos_embed = TimeEmbed(cfg.n_ctx, cfg.d_model)\n",
    "    model = model.to(device)\n",
    "    return cfg, model, train_cfg\n",
    "\n",
    "\n",
    "t.manual_seed(0)\n",
    "cfg, model, train_cfg = model_train_init()"
   ]
  },
  {
   "cell_type": "markdown",
   "metadata": {},
   "source": [
    "#### Generate dataset"
   ]
  },
  {
   "cell_type": "code",
   "execution_count": 60,
   "metadata": {},
   "outputs": [],
   "source": [
    "from generate_data import generate_springdata\n",
    "\n",
    "author = 'SK'\n",
    "num_sample = 400\n",
    "seq_len = 64\n",
    "\n",
    "if author == 'SK':\n",
    "    train_data, train_omegas, test_data_ood, test_omegas = generate_springdata(\n",
    "        num_samples=num_sample,\n",
    "        sequence_length=seq_len,\n",
    "        plot=False,\n",
    "    )\n",
    "\n",
    "    train_data = train_data.to(device)\n",
    "    test_data_ood = test_data_ood.to(device)\n",
    "\n",
    "if author == 'CL':\n",
    "    train_data = generate_harmonic_data_torch(\n",
    "        n_sequences=num_sample,\n",
    "        n_steps=seq_len + 1,\n",
    "        w0_range=(math.pi/4, 5*math.pi/4),\n",
    "        out_of_distribution=False,\n",
    "        seed=42\n",
    "    ).to(device)\n",
    "    \n",
    "    test_data_ood = generate_harmonic_data_torch(\n",
    "        n_sequences=num_sample // 2,\n",
    "        n_steps= seq_len + 1,\n",
    "        out_of_distribution=True,\n",
    "        seed=999\n",
    "    ).to(device)\n",
    "    \n"
   ]
  },
  {
   "cell_type": "markdown",
   "metadata": {},
   "source": [
    "#### Training"
   ]
  },
  {
   "cell_type": "code",
   "execution_count": 61,
   "metadata": {},
   "outputs": [
    {
     "name": "stderr",
     "output_type": "stream",
     "text": [
      "  0%|          | 1/200 [00:00<01:55,  1.72it/s]"
     ]
    },
    {
     "name": "stdout",
     "output_type": "stream",
     "text": [
      "Epoch 0: Train loss 0.7339822053909302, Test loss 0.8998356461524963\n"
     ]
    },
    {
     "name": "stderr",
     "output_type": "stream",
     "text": [
      "  6%|▌         | 11/200 [00:04<01:17,  2.44it/s]"
     ]
    },
    {
     "name": "stdout",
     "output_type": "stream",
     "text": [
      "Epoch 10: Train loss 0.5596968531608582, Test loss 0.7112023830413818\n"
     ]
    },
    {
     "name": "stderr",
     "output_type": "stream",
     "text": [
      " 10%|█         | 21/200 [00:08<01:12,  2.48it/s]"
     ]
    },
    {
     "name": "stdout",
     "output_type": "stream",
     "text": [
      "Epoch 20: Train loss 0.26460400223731995, Test loss 0.3726861774921417\n"
     ]
    },
    {
     "name": "stderr",
     "output_type": "stream",
     "text": [
      " 16%|█▌        | 31/200 [00:11<00:53,  3.16it/s]"
     ]
    },
    {
     "name": "stdout",
     "output_type": "stream",
     "text": [
      "Epoch 30: Train loss 0.1639157384634018, Test loss 0.26698437333106995\n"
     ]
    },
    {
     "name": "stderr",
     "output_type": "stream",
     "text": [
      " 20%|██        | 41/200 [00:14<00:48,  3.27it/s]"
     ]
    },
    {
     "name": "stdout",
     "output_type": "stream",
     "text": [
      "Epoch 40: Train loss 0.11642713099718094, Test loss 0.2074391096830368\n"
     ]
    },
    {
     "name": "stderr",
     "output_type": "stream",
     "text": [
      " 26%|██▌       | 51/200 [00:17<00:42,  3.48it/s]"
     ]
    },
    {
     "name": "stdout",
     "output_type": "stream",
     "text": [
      "Epoch 50: Train loss 0.08610442280769348, Test loss 0.16316823661327362\n"
     ]
    },
    {
     "name": "stderr",
     "output_type": "stream",
     "text": [
      " 30%|███       | 61/200 [00:20<00:40,  3.40it/s]"
     ]
    },
    {
     "name": "stdout",
     "output_type": "stream",
     "text": [
      "Epoch 60: Train loss 0.06992562115192413, Test loss 0.13684943318367004\n"
     ]
    },
    {
     "name": "stderr",
     "output_type": "stream",
     "text": [
      " 36%|███▌      | 71/200 [00:23<00:36,  3.50it/s]"
     ]
    },
    {
     "name": "stdout",
     "output_type": "stream",
     "text": [
      "Epoch 70: Train loss 0.05913708731532097, Test loss 0.12648659944534302\n"
     ]
    },
    {
     "name": "stderr",
     "output_type": "stream",
     "text": [
      " 40%|████      | 81/200 [00:26<00:34,  3.40it/s]"
     ]
    },
    {
     "name": "stdout",
     "output_type": "stream",
     "text": [
      "Epoch 80: Train loss 0.05105564370751381, Test loss 0.11524105817079544\n"
     ]
    },
    {
     "name": "stderr",
     "output_type": "stream",
     "text": [
      " 46%|████▌     | 91/200 [00:28<00:30,  3.54it/s]"
     ]
    },
    {
     "name": "stdout",
     "output_type": "stream",
     "text": [
      "Epoch 90: Train loss 0.04490392655134201, Test loss 0.1069943904876709\n"
     ]
    },
    {
     "name": "stderr",
     "output_type": "stream",
     "text": [
      " 50%|█████     | 101/200 [00:31<00:28,  3.52it/s]"
     ]
    },
    {
     "name": "stdout",
     "output_type": "stream",
     "text": [
      "Epoch 100: Train loss 0.04223702847957611, Test loss 0.09898313134908676\n"
     ]
    },
    {
     "name": "stderr",
     "output_type": "stream",
     "text": [
      " 56%|█████▌    | 111/200 [00:34<00:25,  3.51it/s]"
     ]
    },
    {
     "name": "stdout",
     "output_type": "stream",
     "text": [
      "Epoch 110: Train loss 0.03969822824001312, Test loss 0.09238475561141968\n"
     ]
    },
    {
     "name": "stderr",
     "output_type": "stream",
     "text": [
      " 60%|██████    | 121/200 [00:37<00:22,  3.48it/s]"
     ]
    },
    {
     "name": "stdout",
     "output_type": "stream",
     "text": [
      "Epoch 120: Train loss 0.038186121731996536, Test loss 0.09052686393260956\n"
     ]
    },
    {
     "name": "stderr",
     "output_type": "stream",
     "text": [
      " 66%|██████▌   | 131/200 [00:40<00:23,  2.92it/s]"
     ]
    },
    {
     "name": "stdout",
     "output_type": "stream",
     "text": [
      "Epoch 130: Train loss 0.03376879170536995, Test loss 0.08412837982177734\n"
     ]
    },
    {
     "name": "stderr",
     "output_type": "stream",
     "text": [
      " 70%|███████   | 141/200 [00:44<00:19,  3.09it/s]"
     ]
    },
    {
     "name": "stdout",
     "output_type": "stream",
     "text": [
      "Epoch 140: Train loss 0.03295270726084709, Test loss 0.0804479569196701\n"
     ]
    },
    {
     "name": "stderr",
     "output_type": "stream",
     "text": [
      " 76%|███████▌  | 151/200 [00:47<00:14,  3.36it/s]"
     ]
    },
    {
     "name": "stdout",
     "output_type": "stream",
     "text": [
      "Epoch 150: Train loss 0.031255535781383514, Test loss 0.07919945567846298\n"
     ]
    },
    {
     "name": "stderr",
     "output_type": "stream",
     "text": [
      " 80%|████████  | 161/200 [00:50<00:11,  3.34it/s]"
     ]
    },
    {
     "name": "stdout",
     "output_type": "stream",
     "text": [
      "Epoch 160: Train loss 0.03241003304719925, Test loss 0.07808434218168259\n"
     ]
    },
    {
     "name": "stderr",
     "output_type": "stream",
     "text": [
      " 86%|████████▌ | 171/200 [00:53<00:08,  3.44it/s]"
     ]
    },
    {
     "name": "stdout",
     "output_type": "stream",
     "text": [
      "Epoch 170: Train loss 0.029949111863970757, Test loss 0.07121799141168594\n"
     ]
    },
    {
     "name": "stderr",
     "output_type": "stream",
     "text": [
      " 90%|█████████ | 181/200 [00:55<00:05,  3.47it/s]"
     ]
    },
    {
     "name": "stdout",
     "output_type": "stream",
     "text": [
      "Epoch 180: Train loss 0.02828129194676876, Test loss 0.06900332123041153\n"
     ]
    },
    {
     "name": "stderr",
     "output_type": "stream",
     "text": [
      " 96%|█████████▌| 191/200 [00:58<00:02,  3.36it/s]"
     ]
    },
    {
     "name": "stdout",
     "output_type": "stream",
     "text": [
      "Epoch 190: Train loss 0.02798428386449814, Test loss 0.06959483027458191\n"
     ]
    },
    {
     "name": "stderr",
     "output_type": "stream",
     "text": [
      "100%|██████████| 200/200 [01:01<00:00,  3.25it/s]\n"
     ]
    }
   ],
   "source": [
    "\n",
    "train_losses = []\n",
    "test_losses = []\n",
    "optimizer = t.optim.Adam(model.parameters(), lr=train_cfg[\"lr\"], betas=train_cfg[\"betas\"])\n",
    "\n",
    "### Begin the training loop\n",
    "train_losses = []\n",
    "test_losses = []\n",
    "\n",
    "\n",
    "for epoch in tqdm(range(train_cfg[\"n_epochs\"])):\n",
    "    # minibatch training\n",
    "    model.train()\n",
    "    for minibatch, in train_loader:\n",
    "        minibatch_prediction = model(minibatch)\n",
    "        train_loss = F.mse_loss(minibatch_prediction[:, :-1, :], minibatch[:, 1:, :])\n",
    "        train_loss.backward()\n",
    "        optimizer.step()\n",
    "        optimizer.zero_grad()\n",
    "    \n",
    "    \n",
    "    # Evaluation phase\n",
    "    if epoch % train_cfg[\"checkpoint_every\"] == 0:\n",
    "        model.eval()\n",
    "        with t.inference_mode():\n",
    "            # Evaluate on all training data\n",
    "            full_train_pred = model(train_data)\n",
    "            train_loss = F.mse_loss(full_train_pred[:, :-1, :], train_data[:, 1:, :])\n",
    "\n",
    "            # Evaluate on test data\n",
    "            test_pred = model(test_data_ood)\n",
    "            test_loss = F.mse_loss(test_pred[:, :-1, :], test_data_ood[:, 1:, :])\n",
    "\n",
    "            train_losses.append(train_loss.item())\n",
    "            test_losses.append(test_loss.item())\n",
    "\n",
    "            print(f\"Epoch {epoch}: Train loss {train_loss.item()}, Test loss {test_loss.item()}\")\n",
    "    \n"
   ]
  },
  {
   "cell_type": "code",
   "execution_count": 62,
   "metadata": {},
   "outputs": [
    {
     "data": {
      "image/png": "[encoded data removed]",
      "text/plain": [
       "<Figure size 640x480 with 2 Axes>"
      ]
     },
     "metadata": {},
     "output_type": "display_data"
    }
   ],
   "source": [
    "import matplotlib.pyplot as plt\n",
    "fig, ax1 = plt.subplots()\n",
    "\n",
    "color = 'tab:blue'\n",
    "ax1.set_xlabel('Epoch')\n",
    "ax1.set_ylabel('Train loss', color=color)\n",
    "ax1.plot(train_losses, label=\"Train loss\", color=color)\n",
    "ax1.tick_params(axis='y', labelcolor=color)\n",
    "# plt.yscale(\"log\")\n",
    "ax2 = ax1.twinx()  # instantiate a second axes that shares the same x-axis\n",
    "color = 'tab:red'\n",
    "ax2.set_ylabel('Test loss', color=color)  # we already handled the x-label with ax1\n",
    "ax2.plot(test_losses, label=\"Test loss\", color=color)\n",
    "ax2.tick_params(axis='y', labelcolor=color)\n",
    "\n",
    "fig.tight_layout()  # otherwise the right y-label is slightly clipped\n",
    "# plt.yscale(\"log\")\n",
    "\n",
    "plt.show()"
   ]
  },
  {
   "cell_type": "code",
   "execution_count": null,
   "metadata": {},
   "outputs": [],
   "source": [
    "# Loading the model from .pth file\n",
    "\n"
   ]
  }
 ],
 "metadata": {
  "kernelspec": {
   "display_name": "Python 3",
   "language": "python",
   "name": "python3"
  },
  "language_info": {
   "codemirror_mode": {
    "name": "ipython",
    "version": 3
   },
   "file_extension": ".py",
   "mimetype": "text/x-python",
   "name": "python",
   "nbconvert_exporter": "python",
   "pygments_lexer": "ipython3",
   "version": "3.10.5"
  }
 },
 "nbformat": 4,
 "nbformat_minor": 2
}
